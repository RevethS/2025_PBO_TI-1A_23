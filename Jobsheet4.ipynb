{
  "nbformat": 4,
  "nbformat_minor": 0,
  "metadata": {
    "colab": {
      "provenance": [],
      "authorship_tag": "ABX9TyO5F80vW5nCJlM6vF2ORZno",
      "include_colab_link": true
    },
    "kernelspec": {
      "name": "python3",
      "display_name": "Python 3"
    },
    "language_info": {
      "name": "python"
    }
  },
  "cells": [
    {
      "cell_type": "markdown",
      "metadata": {
        "id": "view-in-github",
        "colab_type": "text"
      },
      "source": [
        "<a href=\"https://colab.research.google.com/github/RevethS/2025_PBO_TI-1A_23/blob/main/Jobsheet4.ipynb\" target=\"_parent\"><img src=\"https://colab.research.google.com/assets/colab-badge.svg\" alt=\"Open In Colab\"/></a>"
      ]
    },
    {
      "cell_type": "code",
      "execution_count": null,
      "metadata": {
        "colab": {
          "base_uri": "https://localhost:8080/"
        },
        "id": "Ndy30HAlKD2q",
        "outputId": "0254a938-c47e-49ee-ff41-ea297bd85390"
      },
      "outputs": [
        {
          "output_type": "stream",
          "name": "stdout",
          "text": [
            "Mobil Tesla Model S berwarna Merah.\n",
            "Mesin Kendaraan Tesla Model S dinyalakan.\n",
            "Merk mobil: Tesla Model S.\n"
          ]
        }
      ],
      "source": [
        "class Kendaraan:\n",
        "  def __init__(self, merk):\n",
        "      self.merk = merk\n",
        "  def mulai_mesin(self):\n",
        "    print(f\"Mesin Kendaraan {self.merk} dinyalakan.\")\n",
        "\n",
        "class Mobil(Kendaraan):\n",
        "    def __init__(self, merk, warna):\n",
        "      self.merk = merk\n",
        "      self.warna = warna\n",
        "    def info_mobil(self):\n",
        "      print(f\"Mobil {self.merk} berwarna {self.warna}.\")\n",
        "\n",
        "if __name__ == \"__main__\":\n",
        "  mobil_tesla = Mobil(\"Tesla Model S\", \"Merah\")\n",
        "\n",
        "  mobil_tesla.info_mobil()\n",
        "\n",
        "  mobil_tesla.mulai_mesin()\n",
        "  print(f\"Merk mobil: {mobil_tesla.merk}.\")"
      ]
    },
    {
      "cell_type": "code",
      "source": [
        "class Person:\n",
        "  def __init__(self, nama, usia):\n",
        "    self.nama = nama\n",
        "    self.usia = usia\n",
        "    print(f\"Hallo, nama saya {self.nama}, usia saya {self.usia}.\")\n",
        "\n",
        "  def perkenalkan_diri(self):\n",
        "    print(f\"Halo, nama saya {self.nama}, usia saya {self.usia} tahun.\")\n",
        "\n",
        "class Student(Person):\n",
        "  def __init__(self, nama, usia, student_id, jurusan):\n",
        "    self.student_id = student_id\n",
        "    self.jurusan = jurusan\n",
        "    print(f\"(Memanggil __init__ Student untuk '{nama}')\")\n",
        "    super().__init__(nama, usia)\n",
        "    print(f\"(Inisialisasi atribut Student selesai untuk '{nama}')\")\n",
        "\n",
        "  def info_akademik(self):\n",
        "    print(f\"Id Mahasiswa: {self.student_id}\")\n",
        "    print(f\"Jurusan: {self.jurusan}\")\n",
        "\n",
        "  def perkenalkan_diri(self):\n",
        "    return super().perkenalkan_diri()\n",
        "    print(f\"Saya adalah mahasiswa {self.jurusan} dengan id {self.student_id}.\")\n",
        "if __name__ == \"__main__\":\n",
        "  dosen = Person(\"Pak Anton\", 45)\n",
        "  print(\"-\" * 40)\n",
        "  dosen.perkenalkan_diri()\n",
        "  print(\"\\n\" + \"=\" * 40 + \"\\n\")\n",
        "\n",
        "  mahasiswa = Student(\"Dewi\", 20, \"MHS001\", \"Teknik Informatika\")\n",
        "  print(\"-\" * 40)\n",
        "  mahasiswa.perkenalkan_diri()\n",
        "  print(\"-\" * 40)\n",
        "  mahasiswa.info_akademik()\n",
        "\n",
        "  print(f\"\\nUsia mahasiswa {mahasiswa.nama}: {mahasiswa.usia}\")"
      ],
      "metadata": {
        "colab": {
          "base_uri": "https://localhost:8080/"
        },
        "id": "yITWJGvTMtJX",
        "outputId": "f723ce06-443e-43fa-9669-5129a225e65d"
      },
      "execution_count": null,
      "outputs": [
        {
          "output_type": "stream",
          "name": "stdout",
          "text": [
            "Hallo, nama saya Pak Anton, usia saya 45.\n",
            "----------------------------------------\n",
            "Halo, nama saya Pak Anton, usia saya 45 tahun.\n",
            "\n",
            "========================================\n",
            "\n",
            "(Memanggil __init__ Student untuk 'Dewi')\n",
            "Hallo, nama saya Dewi, usia saya 20.\n",
            "(Inisialisasi atribut Student selesai untuk 'Dewi')\n",
            "----------------------------------------\n",
            "Halo, nama saya Dewi, usia saya 20 tahun.\n",
            "----------------------------------------\n",
            "Id Mahasiswa: MHS001\n",
            "Jurusan: Teknik Informatika\n",
            "\n",
            "Usia mahasiswa Dewi: 20\n"
          ]
        }
      ]
    },
    {
      "cell_type": "code",
      "source": [
        "class Hewan:\n",
        "  def __init__(self, nama):\n",
        "    self.nama = nama\n",
        "  def bersuara(self):\n",
        "    print(f\"{self.nama} mengeluarkan suara generik.\")\n",
        "  def tampilkan_info(self):\n",
        "    print(f\"Ini adalah hewan bernama {self.nama}.\")\n",
        "\n",
        "class Kucing(Hewan):\n",
        "  def __init__(self, nama, ras):\n",
        "    super().__init__(nama)\n",
        "    self.ras = ras\n",
        "  def bersuara(self):\n",
        "    print(f\"{self.nama} (Kucing) mengeong: Meow!\")\n",
        "  def tampilkan_info(self):\n",
        "    super().tampilkan_info()\n",
        "    print(f\"Ini adalah kucing ras {self.ras}.\")\n",
        "\n",
        "if __name__ == \"__main__\":\n",
        "  hewan_umum = Hewan(\"Makhluk\")\n",
        "  kucing_persia = Kucing(\"Puspus\", \"Persia\")\n",
        "\n",
        "  print(\"Info Hewan Umum: \")\n",
        "  hewan_umum.tampilkan_info()\n",
        "  hewan_umum.bersuara()\n",
        "  print(\"-\" * 40)\n",
        "\n",
        "  print(\"\\nInfo Kucing Persia: \")\n",
        "  kucing_persia.tampilkan_info()\n",
        "  kucing_persia.bersuara()\n",
        "\n"
      ],
      "metadata": {
        "colab": {
          "base_uri": "https://localhost:8080/"
        },
        "id": "GPR9122NRRSq",
        "outputId": "2cc185ff-82fd-4976-8a55-3e0106ab4aa7"
      },
      "execution_count": null,
      "outputs": [
        {
          "output_type": "stream",
          "name": "stdout",
          "text": [
            "Info Hewan Umum: \n",
            "Ini adalah hewan bernama Makhluk.\n",
            "Makhluk mengeluarkan suara generik.\n",
            "----------------------------------------\n",
            "\n",
            "Info Kucing Persia: \n",
            "Ini adalah hewan bernama Puspus.\n",
            "Ini adalah kucing ras Persia.\n",
            "Puspus (Kucing) mengeong: Meow!\n"
          ]
        }
      ]
    },
    {
      "cell_type": "code",
      "source": [
        "class Organisme:\n",
        "  def __init__(self, nama):\n",
        "    self.nama = nama\n",
        "    print(f\"Organisme '{self.nama}' diciptakan.\")\n",
        "  def bernapas(self):\n",
        "    print(f\"{self.nama} sedang bernapas\")\n",
        "\n",
        "\n",
        "class Hewan(Organisme):\n",
        "  def __init__(self, nama, jenis_makanan):\n",
        "    super().__init__(nama)\n",
        "    self.jenis_makanan = jenis_makanan\n",
        "    print(f\"Hewan '{self.nama}' adalah ({self.jenis_makanan}).\")\n",
        "  def bergerak(self):\n",
        "    print(f\"{self.nama} sedang bergerak.\")\n",
        "class Mamalia(Hewan):\n",
        "  def __init__(self, nama, jenis_makanan, kaki):\n",
        "    super().__init__(nama, jenis_makanan)\n",
        "    self.kaki = kaki\n",
        "    print(f\"Mamalia '{self.nama}' memiliki {self.kaki} kaki.\")\n",
        "\n",
        "  def menyusui(self):\n",
        "    print(f\"{self.nama} sedang menyusui.\")\n",
        "\n",
        "if __name__ == \"__main__\":\n",
        "  kucing = Mamalia(\"Kucing Persia\", \"Omnivora\", 4)\n",
        "  print(\"-\" * 40)\n",
        "  kucing.menyusui()\n",
        "  kucing.bergerak()\n",
        "  print(f\"Jenis makanan: {kucing.jenis_makanan}\")\n",
        "\n",
        "  kucing.bernapas()\n",
        "  print(f\"Nama organisme: {kucing.nama}\")"
      ],
      "metadata": {
        "colab": {
          "base_uri": "https://localhost:8080/"
        },
        "id": "JFqTwSIvUHGz",
        "outputId": "456a1cde-c421-4a20-9bcd-0ea1d3a3c7c6"
      },
      "execution_count": null,
      "outputs": [
        {
          "output_type": "stream",
          "name": "stdout",
          "text": [
            "Organisme 'Kucing Persia' diciptakan.\n",
            "Hewan 'Kucing Persia' adalah (Omnivora).\n",
            "Mamalia 'Kucing Persia' memiliki 4 kaki.\n",
            "----------------------------------------\n",
            "Kucing Persia sedang menyusui.\n",
            "Kucing Persia sedang bergerak.\n",
            "Jenis makanan: Omnivora\n",
            "Kucing Persia sedang bernapas\n",
            "Nama organisme: Kucing Persia\n"
          ]
        }
      ]
    },
    {
      "cell_type": "code",
      "source": [
        "import locale\n",
        "\n",
        "def format_rupiah(angka):\n",
        "    try:\n",
        "        # Try setting Indonesian locale\n",
        "        locale.setlocale(locale.LC_ALL, 'id_ID.UTF-8')\n",
        "        return locale.currency(angka, grouping=True, symbol='Rp')\n",
        "    except locale.Error:\n",
        "        # Fallback formatting if locale is not available\n",
        "        return f\"Rp{angka:,.2f}\".replace(',', 'x').replace('.', ',').replace('x', '.')\n",
        "\n",
        "class Pegawai:\n",
        "    def __init__(self, nama, id_pegawai, gaji_pokok):\n",
        "        self.nama = nama\n",
        "        self.id_pegawai = id_pegawai\n",
        "        self.gaji_pokok = gaji_pokok\n",
        "\n",
        "    def hitung_gaji(self):\n",
        "        return self.gaji_pokok\n",
        "\n",
        "    def tampilkan_info(self):\n",
        "        print(f\"ID: {self.id_pegawai}, Nama: {self.nama}\")\n",
        "        print(f\"Gaji Pokok: {format_rupiah(self.gaji_pokok)}\")\n",
        "\n",
        "class Manager(Pegawai):\n",
        "    def __init__(self, nama, id_pegawai, gaji_pokok, tunjangan_jabatan):\n",
        "        super().__init__(nama, id_pegawai, gaji_pokok)\n",
        "        self.tunjangan_jabatan = tunjangan_jabatan\n",
        "\n",
        "    def hitung_gaji(self):\n",
        "        return super().hitung_gaji() + self.tunjangan_jabatan\n",
        "\n",
        "    def tampilkan_info(self):\n",
        "        print(\"--Info Manager--\")\n",
        "        super().tampilkan_info()\n",
        "        print(f\"Tunjangan Jabatan: {format_rupiah(self.tunjangan_jabatan)}\")\n",
        "        print(f\"Gaji Total: {format_rupiah(self.hitung_gaji())}\")\n",
        "\n",
        "class StafTeknis(Pegawai):\n",
        "    def __init__(self, nama, id_pegawai, gaji_pokok, keahlian, bonus_keahlian):\n",
        "        super().__init__(nama, id_pegawai, gaji_pokok)\n",
        "        self.keahlian = keahlian\n",
        "        self.bonus_keahlian = bonus_keahlian\n",
        "\n",
        "    def hitung_gaji(self):\n",
        "        return super().hitung_gaji() + self.bonus_keahlian\n",
        "\n",
        "    def tampilkan_info(self):\n",
        "        print(\"--Info Staf Teknis--\")\n",
        "        super().tampilkan_info()\n",
        "        print(f\"Keahlian: {self.keahlian}\")\n",
        "        print(f\"Bonus Keahlian: {format_rupiah(self.bonus_keahlian)}\")\n",
        "        print(f\"Gaji Total: {format_rupiah(self.hitung_gaji())}\")\n",
        "\n",
        "if __name__ == \"__main__\":\n",
        "    manager1 = Manager(\"Regina\", \"M001\", 10000000, 5000000)\n",
        "    staf1 = StafTeknis(\"Citra Lestasi\", \"S001\", 7000000, \"Python Programming\", 1500000)\n",
        "    pegawai_baru = Pegawai(\"Rian\", \"P005\", 5000000)\n",
        "\n",
        "    print(\"Menampilkan Informasi Pegawai: \")\n",
        "    manager1.tampilkan_info()\n",
        "    print(\"-\" * 40)\n",
        "    staf1.tampilkan_info()\n",
        "    print(\"-\" * 40)\n",
        "\n",
        "    print(\"---Info Pegawai Baru---\")\n",
        "    pegawai_baru.tampilkan_info()\n",
        "    print(f\"Total Gaji: {format_rupiah(pegawai_baru.hitung_gaji())}\")\n",
        "    print(\"-\" * 40)"
      ],
      "metadata": {
        "colab": {
          "base_uri": "https://localhost:8080/"
        },
        "id": "wj60eVYpV7Ho",
        "outputId": "53a3d480-bbd2-4c8c-fb14-a1d13e2306e6"
      },
      "execution_count": null,
      "outputs": [
        {
          "output_type": "stream",
          "name": "stdout",
          "text": [
            "Menampilkan Informasi Pegawai: \n",
            "--Info Manager--\n",
            "ID: M001, Nama: Regina\n",
            "Gaji Pokok: Rp10.000.000,00\n",
            "Tunjangan Jabatan: Rp5.000.000,00\n",
            "Gaji Total: Rp15.000.000,00\n",
            "----------------------------------------\n",
            "--Info Staf Teknis--\n",
            "ID: S001, Nama: Citra Lestasi\n",
            "Gaji Pokok: Rp7.000.000,00\n",
            "Keahlian: Python Programming\n",
            "Bonus Keahlian: Rp1.500.000,00\n",
            "Gaji Total: Rp8.500.000,00\n",
            "----------------------------------------\n",
            "---Info Pegawai Baru---\n",
            "ID: P005, Nama: Rian\n",
            "Gaji Pokok: Rp5.000.000,00\n",
            "Total Gaji: Rp5.000.000,00\n",
            "----------------------------------------\n"
          ]
        }
      ]
    },
    {
      "cell_type": "code",
      "source": [
        "class BentukGeometri:\n",
        "  def __init__(self, nama_bentuk):\n",
        "    self.nama = nama_bentuk\n",
        "  def tampilkan_nama(self):\n",
        "    print(\"Ini adalah bentuk :\", self.nama)\n",
        "  def hitung_luas(self):\n",
        "    print(f\"Luas {self.nama} tidak dapat dihitung (generik).\")\n",
        "\n",
        "class PersegiPanjang(BentukGeometri):\n",
        "  def __init__(self, panjang, lebar):\n",
        "    super().__init__(\"Persegi Panjang\")\n",
        "    self.panjang = panjang\n",
        "    self.lebar = lebar\n",
        "  def hitung_luas(self):\n",
        "     luas = self.panjang * self.lebar\n",
        "     print(f\"Luas {self.nama}: {luas}\")\n",
        "class Segitiga(BentukGeometri):\n",
        "  def __init__(self, alas, tinggi):\n",
        "    super().__init__(\"Segitiga\")\n",
        "    self.alas = alas\n",
        "    self.tinggi = tinggi\n",
        "  def hitung_luas(self):\n",
        "    luas = 0.5 * self.alas * self.tinggi\n",
        "    print(f\"Luas {self.nama}: {luas}\")\n",
        "\n",
        "def proses_bentuk(bentuk):\n",
        "  print(f\"\\nMemproses objek: {type(bentuk)}\")\n",
        "\n",
        "  if isinstance(bentuk, BentukGeometri):\n",
        "    bentuk.tampilkan_nama()\n",
        "  print(\"Objek ini adalah instance dari BentukGeometri (atau turunan).\")\n",
        "  if isinstance(bentuk, PersegiPanjang):\n",
        "    print(\"Objek ini adalah instance dari PersegiPanjang.\")\n",
        "  elif isinstance(bentuk, Segitiga):\n",
        "    print(\"Objek ini adalah instance dari Segitiga.\")\n",
        "  else:\n",
        "    print(\"Objek ini BUKAN intance dari BentukGeometri\")\n",
        "\n",
        "  if isinstance(bentuk, str):\n",
        "    print(\"Objek ini adalah str.\")\n",
        "\n",
        "if __name__ == \"__main__\":\n",
        "  pp = PersegiPanjang(4, 3)\n",
        "  seg = Segitiga(5, 2)\n",
        "\n",
        "  bg = BentukGeometri(\"Lingkaran\")\n",
        "  teks = \"Ini string\"\n",
        "\n",
        "  daftar_objek = [pp, seg, bg, teks]\n",
        "\n",
        "  for obj in daftar_objek:\n",
        "    proses_bentuk(obj)"
      ],
      "metadata": {
        "colab": {
          "base_uri": "https://localhost:8080/"
        },
        "id": "Z15gtWnue41r",
        "outputId": "4333c0a8-1c9a-4afb-9a13-cf78b5851b09"
      },
      "execution_count": null,
      "outputs": [
        {
          "output_type": "stream",
          "name": "stdout",
          "text": [
            "\n",
            "Memproses objek: <class '__main__.PersegiPanjang'>\n",
            "Ini adalah bentuk : Persegi Panjang\n",
            "Objek ini adalah instance dari BentukGeometri (atau turunan).\n",
            "Objek ini adalah instance dari PersegiPanjang.\n",
            "\n",
            "Memproses objek: <class '__main__.Segitiga'>\n",
            "Ini adalah bentuk : Segitiga\n",
            "Objek ini adalah instance dari BentukGeometri (atau turunan).\n",
            "Objek ini adalah instance dari Segitiga.\n",
            "\n",
            "Memproses objek: <class '__main__.BentukGeometri'>\n",
            "Ini adalah bentuk : Lingkaran\n",
            "Objek ini adalah instance dari BentukGeometri (atau turunan).\n",
            "Objek ini BUKAN intance dari BentukGeometri\n",
            "\n",
            "Memproses objek: <class 'str'>\n",
            "Objek ini adalah instance dari BentukGeometri (atau turunan).\n",
            "Objek ini BUKAN intance dari BentukGeometri\n",
            "Objek ini adalah str.\n"
          ]
        }
      ]
    },
    {
      "cell_type": "code",
      "source": [
        "class Mahasiswa:\n",
        "  def __init__(self, nama, nim, ipk):\n",
        "     self.nama = nama\n",
        "     self.nim = nim\n",
        "     self.ipk = ipk\n",
        "  def tampilkan_info(self):\n",
        "    print(f\"Nama: {self.nama} \\nNIM: {self.nim} \\nIPK: {self.ipk}\")\n",
        "  def hitung_predikat(self):\n",
        "    if self.ipk >= 3.5:\n",
        "      return \"Dengan Pujian\"\n",
        "    elif 3.0 <= self.ipk < 3.5:\n",
        "      return \"Sangat Memuaskan\"\n",
        "    elif 2.5 <= self.ipk < 3.0:\n",
        "      return \"Memuaskan\"\n",
        "    elif self.ipk < 2.5:\n",
        "      return \"Cukup\"\n",
        "class MahasiswaSarjana(Mahasiswa):\n",
        "  def __init__(self, nama, nim, ipk, semester, sks_lulus):\n",
        "    super().__init__(nama, nim, ipk)\n",
        "    self.sks_lulus = sks_lulus\n",
        "    self.semester = semester\n",
        "  def tampilkan_info(self):\n",
        "    super().tampilkan_info()\n",
        "    print(f\"Semester: {self.semester} \\nSKS Lulus: {self.sks_lulus}\")\n",
        "class MahasiswaMagister(Mahasiswa):\n",
        "  def __init__(self, nama, nim, ipk, judul_tesis, nama_pembimbing):\n",
        "    super().__init__(nama, nim, ipk)\n",
        "    self.judul_tesis = judul_tesis\n",
        "    self.nama_pembimbing = nama_pembimbing\n",
        "  def tampilkan_info(self):\n",
        "    super().tampilkan_info()\n",
        "    print(f\"Judul Tesis: {self.judul_tesis}\")\n",
        "    print(f\"Nama Pembimbing: {self.nama_pembimbing}\")\n",
        "\n",
        "if __name__ ==\"__main__\":\n",
        "  mahasiswa1 = Mahasiswa(\"Regina\", \"MHS001\", 3.8)\n",
        "  mahasiswa2 = MahasiswaSarjana(\"Raki\", \"MHS002\", 3.6, 6, 120)\n",
        "  mahasiswa3 = MahasiswaMagister(\"Rere\", \"MHS003\", 3.9, \"Perancangan Sistem Informasi\", \"Pak Budi\")\n",
        "\n",
        "  mahasiswa1.tampilkan_info()\n",
        "  print(f\"Predikat: {mahasiswa1.hitung_predikat()}\")\n",
        "  print(\"-\" * 40)\n",
        "\n",
        "  mahasiswa2.tampilkan_info()\n",
        "  print(f\"Predikat: {mahasiswa2.hitung_predikat()}\")\n",
        "  print(\"-\" * 40)\n",
        "\n",
        "  mahasiswa3.tampilkan_info()\n",
        "  print(f\"Predikat: {mahasiswa3.hitung_predikat()}\")\n"
      ],
      "metadata": {
        "colab": {
          "base_uri": "https://localhost:8080/"
        },
        "id": "llPTPfcVmzTl",
        "outputId": "7eb39a64-2219-41d9-bfd1-85d6f4138fc0"
      },
      "execution_count": 1,
      "outputs": [
        {
          "output_type": "stream",
          "name": "stdout",
          "text": [
            "Nama: Regina \n",
            "NIM: MHS001 \n",
            "IPK: 3.8\n",
            "Predikat: Dengan Pujian\n",
            "----------------------------------------\n",
            "Nama: Raki \n",
            "NIM: MHS002 \n",
            "IPK: 3.6\n",
            "Semester: 6 \n",
            "SKS Lulus: 120\n",
            "Predikat: Dengan Pujian\n",
            "----------------------------------------\n",
            "Nama: Rere \n",
            "NIM: MHS003 \n",
            "IPK: 3.9\n",
            "Judul Tesis: Perancangan Sistem Informasi\n",
            "Nama Pembimbing: Pak Budi\n",
            "Predikat: Dengan Pujian\n"
          ]
        }
      ]
    }
  ]
}