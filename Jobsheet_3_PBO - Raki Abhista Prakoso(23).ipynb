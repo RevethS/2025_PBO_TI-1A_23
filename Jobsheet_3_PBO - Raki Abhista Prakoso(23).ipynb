{
  "nbformat": 4,
  "nbformat_minor": 0,
  "metadata": {
    "colab": {
      "provenance": [],
      "authorship_tag": "ABX9TyNflGbPg+/jdBtvzgbzer1H",
      "include_colab_link": true
    },
    "kernelspec": {
      "name": "python3",
      "display_name": "Python 3"
    },
    "language_info": {
      "name": "python"
    }
  },
  "cells": [
    {
      "cell_type": "markdown",
      "metadata": {
        "id": "view-in-github",
        "colab_type": "text"
      },
      "source": [
        "<a href=\"https://colab.research.google.com/github/RevethS/2025_PBO_TI-1A_23/blob/main/Jobsheet_3_PBO%20-%20Raki%20Abhista%20Prakoso(23).ipynb\" target=\"_parent\"><img src=\"https://colab.research.google.com/assets/colab-badge.svg\" alt=\"Open In Colab\"/></a>"
      ]
    },
    {
      "cell_type": "code",
      "execution_count": 39,
      "metadata": {
        "colab": {
          "base_uri": "https://localhost:8080/"
        },
        "id": "k2QUeCWxecMg",
        "outputId": "b64f684e-4bd2-438a-d2a0-bc34c23db039"
      },
      "outputs": [
        {
          "output_type": "stream",
          "name": "stdout",
          "text": [
            "500 telah ditambahkan ke akun Alice\n",
            "Jumlah Deposit Hasus Lebih dari 0!\n",
            "300 berhasil ditarik dari akun Alice\n",
            "Saldomu kurang!\n",
            "Saldo di Akun Alice : 1200\n"
          ]
        }
      ],
      "source": [
        "class BankAccount:\n",
        "  def __init__(self, owner, balance):\n",
        "    self.__owner = owner\n",
        "    self.__balance = balance\n",
        "\n",
        "  def deposit(self, amount):\n",
        "    if amount > 0:\n",
        "      self.__balance += amount\n",
        "      print(f\"{amount} telah ditambahkan ke akun {self.__owner}\")\n",
        "    else:\n",
        "      print(\"Jumlah Deposit Hasus Lebih dari 0!\")\n",
        "\n",
        "  def withdraw(self, amount):\n",
        "    if amount <= self.__balance:\n",
        "      self.__balance -= amount\n",
        "      print(f\"{amount} berhasil ditarik dari akun {self.__owner}\")\n",
        "    else:\n",
        "      print(\"Saldomu kurang!\")\n",
        "  def get_balance(self):\n",
        "    return self.__balance\n",
        "\n",
        "\n",
        "if __name__ == \"__main__\":\n",
        "  alice_account = BankAccount(owner=\"Alice\", balance=1000)\n",
        "\n",
        "alice_account.deposit(500)\n",
        "alice_account.deposit(-100)\n",
        "alice_account.withdraw(300)\n",
        "alice_account.withdraw(15567575999)\n",
        "\n",
        "\n",
        "currentbalance = alice_account.get_balance()\n",
        "print(f\"Saldo di Akun {alice_account._BankAccount__owner} : {currentbalance}\")\n"
      ]
    },
    {
      "cell_type": "code",
      "source": [
        "class Employee:\n",
        "    def __init__(self, name, salary):\n",
        "        self.__name = name\n",
        "        self.__salary = salary\n",
        "    def updatesalary(self, increase):\n",
        "        if increase > 0:\n",
        "            self.__salary += increase\n",
        "            print(f\"Gaji berhasil ditambahkan sebesar {increase}.\")\n",
        "        else:\n",
        "            print(\"Nilai harus lebih besar dari 0!\")\n",
        "    def setsalary(self, newsalary):\n",
        "        if newsalary >= 0:\n",
        "            self.__salary = newsalary\n",
        "            print(f\"Gaji berhasil ditetapkan menjadi {newsalary}.\")\n",
        "        else:\n",
        "            print(\"Nilai harus lebih dari sama dengan 0.\")\n",
        "    def getsalary(self):\n",
        "        return self.__salary\n",
        "    def getemployeeinfo(self):\n",
        "        return f\"Employee: {self.__name}, Gaji: {self.__salary}\"\n",
        "\n",
        "\n",
        "if __name__ == \"__main__\":\n",
        "    employee1 = Employee(\"Regina\", 50000)\n",
        "print(employee1.getemployeeinfo())\n",
        "\n",
        "employee1.updatesalary(100000)\n",
        "print(f\"{employee1.getemployeeinfo()}\")\n",
        "employee1.setsalary(1000000)\n",
        "print(f\"{employee1.getemployeeinfo()}\")"
      ],
      "metadata": {
        "colab": {
          "base_uri": "https://localhost:8080/"
        },
        "id": "nBo7NgNImQ7U",
        "outputId": "29371b5f-42c7-499e-935c-02c76afab444"
      },
      "execution_count": 40,
      "outputs": [
        {
          "output_type": "stream",
          "name": "stdout",
          "text": [
            "Employee: Regina, Gaji: 50000\n",
            "Gaji berhasil ditambahkan sebesar 100000.\n",
            "Employee: Regina, Gaji: 150000\n",
            "Gaji berhasil ditetapkan menjadi 1000000.\n",
            "Employee: Regina, Gaji: 1000000\n"
          ]
        }
      ]
    },
    {
      "cell_type": "code",
      "source": [
        "class examlple:\n",
        "    def __init__(self, name):\n",
        "        self.name = name\n",
        "        print(f\"Konstruktor: Objek '{self.name}' telah dibuat\")\n",
        "\n",
        "    def __del__(self):\n",
        "        print(f\"DestruktorL Objek '{self.name}' sedang dihapus.\")\n",
        "\n",
        "\n",
        "def main():\n",
        "    print(\"Program Dimulai.\\n\")\n",
        "    obj = examlple(\"Demo\")\n",
        "    print(\"Program Sedang Berjalan...\")\n",
        "    del obj\n",
        "    print(\"Objek telah dihapus secara eksplisit\\n\")\n",
        "\n",
        "    print(\"Program Selesai...\")\n",
        "\n",
        "if __name__ == \"__main__\":\n",
        "    main()"
      ],
      "metadata": {
        "colab": {
          "base_uri": "https://localhost:8080/"
        },
        "id": "ggUdj-fRsDwL",
        "outputId": "c1849e0c-2d08-450d-8cd8-eb0479ac99a4"
      },
      "execution_count": 41,
      "outputs": [
        {
          "output_type": "stream",
          "name": "stdout",
          "text": [
            "Program Dimulai.\n",
            "\n",
            "Konstruktor: Objek 'Demo' telah dibuat\n",
            "Program Sedang Berjalan...\n",
            "DestruktorL Objek 'Demo' sedang dihapus.\n",
            "Objek telah dihapus secara eksplisit\n",
            "\n",
            "Program Selesai...\n"
          ]
        }
      ]
    },
    {
      "cell_type": "code",
      "source": [
        "class FileLogger:\n",
        "    def __init__(self, filename):\n",
        "        self.filename = filename\n",
        "        try:\n",
        "            self.file = open(filename, \"a\")\n",
        "            print(f\"File '{filename}' berhasil dibuka untuk logging.\")\n",
        "        except Exception as e:\n",
        "            print(f\"Gagal membnuka file '{filename}'L {e}\")\n",
        "\n",
        "    def writelog(self, message):\n",
        "        self.file.write(message + \"\\n\")\n",
        "        self.file.flush()\n",
        "        print(f\"Pesan Log: '{message}' telah ditulis.\")\n",
        "        def __del__(self):\n",
        "            if hasattr(self, \"file\") and not self.file.closed:\n",
        "                self.file.close()\n",
        "                print(f\"File '{self.filename}' telah ditutup.\")\n",
        "\n",
        "if __name__ == \"__main__\":\n",
        "    logger = FileLogger(\"application.log\")\n",
        "\n",
        "logger.writelog(\"Melakukan Operasi A...\")\n",
        "logger.writelog(\"Aplikasi akan segera selesai.\")\n",
        "\n",
        "del logger\n"
      ],
      "metadata": {
        "colab": {
          "base_uri": "https://localhost:8080/"
        },
        "id": "JZAE1HEWzy-P",
        "outputId": "bdf99882-00f5-49c6-f3f1-185cc37beb96"
      },
      "execution_count": 42,
      "outputs": [
        {
          "output_type": "stream",
          "name": "stdout",
          "text": [
            "File 'application.log' berhasil dibuka untuk logging.\n",
            "Pesan Log: 'Melakukan Operasi A...' telah ditulis.\n",
            "Pesan Log: 'Aplikasi akan segera selesai.' telah ditulis.\n"
          ]
        }
      ]
    },
    {
      "cell_type": "code",
      "source": [
        "class calc:\n",
        "    def __init__(self, intial=0):\n",
        "        self.value = intial\n",
        "        print(f\"kalkulator di inisialisasikan dengan nilai: {self.value}\")\n",
        "\n",
        "    def add(self, number):\n",
        "        self.value += number\n",
        "        print(f\"Setelah penambahan {number}. nilai sekarang adalah: {self.value}\")\n",
        "\n",
        "    def subtract(self, number):\n",
        "        self.value -= number\n",
        "        print(f\"Setelah dikurangi {number} nilai menjadi {self.value}\")\n",
        "    def reset(self):\n",
        "        self.value == 0\n",
        "        print(f\"Nilai telah di reset kembali menjadi {self.value}\")\n",
        "\n",
        "    def showval(self):\n",
        "        print(f\"Nilai sekarang adalah {self.value}.\")\n",
        "\n",
        "def main():\n",
        "    calc1 = calc(intial=10)\n",
        "    calc1.add(5)\n",
        "    calc1.subtract(7)\n",
        "    calc1.showval()\n",
        "    calc1.reset()\n",
        "\n",
        "if __name__ == \"__main__\":\n",
        "    main()"
      ],
      "metadata": {
        "colab": {
          "base_uri": "https://localhost:8080/"
        },
        "id": "JQ__PFM_-mPA",
        "outputId": "5aa70bc8-8d61-4a44-c16a-e748d408300f"
      },
      "execution_count": 43,
      "outputs": [
        {
          "output_type": "stream",
          "name": "stdout",
          "text": [
            "kalkulator di inisialisasikan dengan nilai: 10\n",
            "Setelah penambahan 5. nilai sekarang adalah: 15\n",
            "Setelah dikurangi 7 nilai menjadi 8\n",
            "Nilai sekarang adalah 8.\n",
            "Nilai telah di reset kembali menjadi 8\n"
          ]
        }
      ]
    },
    {
      "cell_type": "code",
      "source": [
        "class person:\n",
        "    def __init__(self, name, age):\n",
        "        self.__name = name\n",
        "        self.__age = age\n",
        "\n",
        "    @property\n",
        "    def name(self):\n",
        "        return self.__name\n",
        "\n",
        "    @name.setter\n",
        "    def name (self, value):\n",
        "        if not value:\n",
        "            print(\"nama tidak boleh kosong\")\n",
        "        else:\n",
        "            self.__name = value\n",
        "    @property\n",
        "    def age(self):\n",
        "        return self.__age\n",
        "\n",
        "    @age.setter\n",
        "    def age(self, value):\n",
        "        if value < 0:\n",
        "            print(\"Umur tidak boleh negatif\")\n",
        "        else:\n",
        "            self.__age = value\n",
        "\n",
        "def main():\n",
        "    person1 = person(\"Bambang\", 20)\n",
        "    print(f\"Nama: {person1.name}, Umur: {person1.age}\")\n",
        "    person1.name = \"Regina\"\n",
        "    person1.age = 25\n",
        "    print(f\"Nama baru: {person1.name}, Umur baru: {person1.age}.\")\n",
        "\n",
        "if __name__ == \"__main__\":\n",
        "    main()\n"
      ],
      "metadata": {
        "colab": {
          "base_uri": "https://localhost:8080/"
        },
        "id": "0O1eMLbe-rIn",
        "outputId": "9a9b39ef-dafb-4f25-ef14-0a294c9cbf3d"
      },
      "execution_count": 44,
      "outputs": [
        {
          "output_type": "stream",
          "name": "stdout",
          "text": [
            "Nama: Bambang, Umur: 20\n",
            "Nama baru: Regina, Umur baru: 25.\n"
          ]
        }
      ]
    },
    {
      "cell_type": "code",
      "source": [
        "class student:\n",
        "    def __init__(self, nama, nilai):\n",
        "        self.__nama = nama\n",
        "        self.__nilai = nilai\n",
        "\n",
        "    @property\n",
        "    def nama(self):\n",
        "        return self.__nama\n",
        "\n",
        "    @property\n",
        "    def nilai(self):\n",
        "        return self.__nilai\n",
        "\n",
        "    @nilai.setter\n",
        "    def nilai(self, val):\n",
        "        if val >= 0 and val <= 100:\n",
        "            self.__nilai = val\n",
        "        else:\n",
        "            print(\"Input Nilai Tidak Valid\")\n",
        "\n",
        "    @property\n",
        "    def grade(self):\n",
        "        if self.__nilai < 60:\n",
        "            return \"E\"\n",
        "        elif self.__nilai >= 60 and self.__nilai < 70:\n",
        "            return \"D\"\n",
        "        elif self.__nilai >= 70 and self.__nilai < 80:\n",
        "            return \"C\"\n",
        "        elif self.__nilai >= 80 and self.__nilai < 90:\n",
        "            return \"B\"\n",
        "        elif self.__nilai >= 90 and self.__nilai <= 100:\n",
        "            return \"A\"\n",
        "\n",
        "    def showinfo(self):\n",
        "        return print(f\"Student: {self.__nama}\\nNilai: {self.__nilai}\\nGrade: {self.grade}\")\n",
        "\n",
        "\n",
        "def main():\n",
        "    student1 = student(\"Regina\", 80)\n",
        "    student1.showinfo()\n",
        "    print(\"\\nNIlai diubah....\")\n",
        "    student1.nilai = 100\n",
        "    student1.showinfo()\n",
        "\n",
        "    del student1\n",
        "    print(\"\\nData telah dihapus\")\n",
        "\n",
        "if __name__ == \"__main__\":\n",
        "    main()"
      ],
      "metadata": {
        "colab": {
          "base_uri": "https://localhost:8080/"
        },
        "id": "0agLH_2DCyf2",
        "outputId": "cd963431-e0ae-4d52-fd7d-20f4e991450f"
      },
      "execution_count": 47,
      "outputs": [
        {
          "output_type": "stream",
          "name": "stdout",
          "text": [
            "Student: Regina\n",
            "Nilai: 80\n",
            "Grade: B\n",
            "\n",
            "NIlai diubah....\n",
            "Student: Regina\n",
            "Nilai: 100\n",
            "Grade: A\n",
            "\n",
            "Data telah dihapus\n"
          ]
        }
      ]
    }
  ]
}