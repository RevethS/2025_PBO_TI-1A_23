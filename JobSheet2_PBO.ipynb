{
  "nbformat": 4,
  "nbformat_minor": 0,
  "metadata": {
    "colab": {
      "provenance": [],
      "authorship_tag": "ABX9TyNUIS/kxnztWQ1rc7geBwGs",
      "include_colab_link": true
    },
    "kernelspec": {
      "name": "python3",
      "display_name": "Python 3"
    },
    "language_info": {
      "name": "python"
    }
  },
  "cells": [
    {
      "cell_type": "markdown",
      "metadata": {
        "id": "view-in-github",
        "colab_type": "text"
      },
      "source": [
        "<a href=\"https://colab.research.google.com/github/RevethS/2025_PBO_TI-1A_23/blob/main/JobSheet2_PBO.ipynb\" target=\"_parent\"><img src=\"https://colab.research.google.com/assets/colab-badge.svg\" alt=\"Open In Colab\"/></a>"
      ]
    },
    {
      "cell_type": "code",
      "execution_count": 3,
      "metadata": {
        "colab": {
          "base_uri": "https://localhost:8080/"
        },
        "id": "muIuoq-Um7sF",
        "outputId": "c8e78b5e-6c4b-4cef-8540-83fb1fdea3df"
      },
      "outputs": [
        {
          "output_type": "stream",
          "name": "stdout",
          "text": [
            "Ini adalah contoh fungsi built-in\n",
            "Panjang kata 'Pemrograman' adalah: 11\n",
            "Nilai maksimum dalam daftar [10, 5, 30, 40, 25] adalah: 40\n",
            "Kuadrat dari 5 adalah: 25\n",
            "Luas persegi panjang: 50\n",
            "Nama: Budi, Umur: 22, IPK: 3.8\n",
            "Halo, Andi! Selamat datang di dunia Python.\n",
            "Keliling persegi dengan sisi 5 adalah: 20\n"
          ]
        }
      ],
      "source": [
        "# Fungsi Built-in\n",
        "print(\"Ini adalah contoh fungsi built-in\")\n",
        "\n",
        "kata = \"Pemrograman\"\n",
        "panjang_kata = len(kata)\n",
        "print(f\"Panjang kata '{kata}' adalah: {panjang_kata}\")\n",
        "\n",
        "angka = [10, 5, 30, 40, 25]\n",
        "nilai_max = max(angka)\n",
        "print(f\"Nilai maksimum dalam daftar {angka} adalah: {nilai_max}\")\n",
        "\n",
        "# Fungsi User-Defined\n",
        "def cetak_kuadrat(angka):\n",
        "    print(f\"Kuadrat dari {angka} adalah: {angka ** 2}\")\n",
        "\n",
        "def hitung_luas_persegi_panjang(panjang, lebar):\n",
        "    return panjang * lebar\n",
        "\n",
        "def info_mahasiswa(nama, umur, ipk):\n",
        "    print(f\"Nama: {nama}, Umur: {umur}, IPK: {ipk}\")\n",
        "\n",
        "def sapa_pengguna(nama):\n",
        "    print(f\"Halo, {nama}! Selamat datang di dunia Python.\")\n",
        "\n",
        "def hitung_keliling_persegi(sisi):\n",
        "    return 4 * sisi\n",
        "\n",
        "cetak_kuadrat(5)\n",
        "luas = hitung_luas_persegi_panjang(10, 5)\n",
        "print(f\"Luas persegi panjang: {luas}\")\n",
        "info_mahasiswa(\"Budi\", 22, 3.8)\n",
        "sapa_pengguna(\"Andi\")\n",
        "keliling = hitung_keliling_persegi(5)\n",
        "print(f\"Keliling persegi dengan sisi 5 adalah: {keliling}\")\n"
      ]
    },
    {
      "cell_type": "code",
      "source": [
        "import geometri\n",
        "\n",
        "def main():\n",
        "    luas_persegi = geometri.hitung_luas_persegi(5)\n",
        "    print(f\"Luas persegi dengan sisi 5 adalah: {luas_persegi}\")\n",
        "\n",
        "    luas_persegi_panjang = geometri.hitung_luas_persegi_panjang(10, 5)\n",
        "    print(f\"Luas persegi panjang dengan panjang 10 dan lebar 5 adalah: {luas_persegi_panjang}\")\n",
        "\n",
        "    luas_lingkaran = geometri.hitung_luas_lingkaran(7)\n",
        "    print(f\"Luas lingkaran dengan jari-jari 7 adalah: {luas_lingkaran}\")\n",
        "\n",
        "if __name__ == \"__main__\":\n",
        "    main()\n"
      ],
      "metadata": {
        "colab": {
          "base_uri": "https://localhost:8080/"
        },
        "id": "ypZ-0-tmDufC",
        "outputId": "ab4c1f02-4a5a-4f61-b393-a58d0e91793b"
      },
      "execution_count": 5,
      "outputs": [
        {
          "output_type": "stream",
          "name": "stdout",
          "text": [
            "Luas persegi dengan sisi 5 adalah: 25\n",
            "Luas persegi panjang dengan panjang 10 dan lebar 5 adalah: 50\n",
            "Luas lingkaran dengan jari-jari 7 adalah: 153.86\n"
          ]
        }
      ]
    },
    {
      "cell_type": "code",
      "source": [
        "from buku import Buku\n",
        "\n",
        "buku1 = Buku(\"Pemrograman Python\", \"John Doe\", 2021)\n",
        "buku2 = Buku(\"Data Science untuk Pemula\", \"Jane Smith\", 2020)\n",
        "\n",
        "buku1.tampilkan_info()\n",
        "buku2.pinjam()\n",
        "buku2.kembalikan()\n",
        "buku1.pinjam()\n",
        "buku1.tampilkan_info()"
      ],
      "metadata": {
        "colab": {
          "base_uri": "https://localhost:8080/"
        },
        "id": "REjLyHdUFa1F",
        "outputId": "f94b64ad-cd12-4950-eb2c-bd80f36ef20d"
      },
      "execution_count": 35,
      "outputs": [
        {
          "output_type": "stream",
          "name": "stdout",
          "text": [
            "Judul: Pemrograman Python\n",
            "Pengarang: John Doe\n",
            "Tahun Terbit: 2021\n",
            "Status: Tersedia\n",
            "Buku 'Data Science untuk Pemula' telah dipinjam.\n",
            "Buku 'Data Science untuk Pemula' telah dikembalikan.\n",
            "Buku 'Pemrograman Python' telah dipinjam.\n",
            "Judul: Pemrograman Python\n",
            "Pengarang: John Doe\n",
            "Tahun Terbit: 2021\n",
            "Status: Dipinjam\n"
          ]
        }
      ]
    },
    {
      "cell_type": "code",
      "source": [
        "from Mahasiswa import Mahasiswa\n",
        "\n",
        "mahasiswa1 = Mahasiswa(\"Andi\", \"12345\", 20)\n",
        "mahasiswa2 = Mahasiswa(\"Budi\", \"67890\", 22)\n",
        "\n",
        "mahasiswa1.tampilkan_info()\n",
        "print()\n",
        "mahasiswa2.tampilkan_info()\n",
        "\n",
        "mahasiswa1.ubah_umur(21)\n",
        "print(\"\\nSetelah mengubah umur mahasiswa1:\")\n",
        "mahasiswa1.tampilkan_info()"
      ],
      "metadata": {
        "colab": {
          "base_uri": "https://localhost:8080/"
        },
        "id": "TKajCRvmFl6w",
        "outputId": "fc6bc22b-58e5-40a0-a18c-2c1b855e708f"
      },
      "execution_count": 25,
      "outputs": [
        {
          "output_type": "stream",
          "name": "stdout",
          "text": [
            "Nama: Andi\n",
            "NIM: 12345\n",
            "Umur: 20 tahun\n",
            "\n",
            "Nama: Budi\n",
            "NIM: 67890\n",
            "Umur: 22 tahun\n",
            "\n",
            "Setelah mengubah umur mahasiswa1:\n",
            "Nama: Andi\n",
            "NIM: 12345\n",
            "Umur: 21 tahun\n"
          ]
        }
      ]
    },
    {
      "cell_type": "code",
      "source": [
        "from Mobil import Mobil\n",
        "\n",
        "mobil1 = Mobil(\"Toyota\", \"Hitam\", 2015, 300000000)\n",
        "mobil2 = Mobil(\"Honda\", \"Merah\", 2018, 250000000)\n",
        "\n",
        "mobil1.tampilkan_info()\n",
        "mobil2.tampilkan_info()\n",
        "\n",
        "mobil1.diskon(10)\n",
        "mobil2.diskon(15)\n",
        "\n",
        "usia_mobil1 = mobil1.hitung_usia(2025)\n",
        "usia_mobil2 = mobil2.hitung_usia(2025)\n",
        "\n",
        "print(f\"Usia mobil1 pada tahun 2025: {usia_mobil1} tahun\")\n",
        "print(f\"Usia mobil2 pada tahun 2025: {usia_mobil2} tahun\")\n",
        "\n",
        "mobil1.perbarui_harga(280000000, 2022)\n",
        "mobil2.perbarui_harga(240000000, 2021)"
      ],
      "metadata": {
        "colab": {
          "base_uri": "https://localhost:8080/"
        },
        "id": "w1DfaRD2F_ZX",
        "outputId": "979e156a-67bb-456e-9747-85275500a697"
      },
      "execution_count": 29,
      "outputs": [
        {
          "output_type": "stream",
          "name": "stdout",
          "text": [
            "Mobil Toyota berwarna Hitam, tahun 2015, harga: Rp 300000000\n",
            "Mobil Honda berwarna Merah, tahun 2018, harga: Rp 250000000\n",
            "Harga setelah diskon 10%: Rp 270000000.0\n",
            "Harga setelah diskon 15%: Rp 212500000.0\n",
            "Usia mobil1 pada tahun 2025: 10 tahun\n",
            "Usia mobil2 pada tahun 2025: 7 tahun\n",
            "Harga dan tahun mobil Toyota diperbarui menjadi Rp 280000000 dan tahun 2022\n",
            "Harga dan tahun mobil Honda diperbarui menjadi Rp 240000000 dan tahun 2021\n"
          ]
        }
      ]
    },
    {
      "cell_type": "code",
      "source": [
        "import parkir\n",
        "\n",
        "def main():\n",
        "    parkiran = parkir.Parkir(kapasitas=5)\n",
        "\n",
        "    motor1 = parkir.Motor(\"TI 1A PLNS\", \"Aerox\", \"Merah\")\n",
        "    motor2 = parkir.Motor(\"TRK 2024 PBO\", \"Mio GT\", \"Hitam\")\n",
        "    motor3 = parkir.Motor(\"PLNS 2025 JY\", \"Supra Bapak\", \"Biru\")\n",
        "\n",
        "    print(parkiran.tambah_motor(motor1))\n",
        "    print(parkiran.tambah_motor(motor2))\n",
        "    print(parkiran.tambah_motor(motor3))\n",
        "\n",
        "    print(\"\\nDaftar kendaraan di parkiran:\")\n",
        "    print(parkiran.tampilkan_kendaraan())\n",
        "\n",
        "    print(\"\\nMotor keluar:\")\n",
        "    print(parkiran.keluar_motor(\"B5678CD\"))\n",
        "\n",
        "    print(\"\\nDaftar kendaraan setelah motor keluar:\")\n",
        "    print(parkiran.tampilkan_kendaraan())\n",
        "\n",
        "if __name__ == \"__main__\":\n",
        "    main()\n"
      ],
      "metadata": {
        "colab": {
          "base_uri": "https://localhost:8080/"
        },
        "id": "1Tm4YTkWD7Hh",
        "outputId": "32022f91-e985-491f-bfe5-3bd4219414ca"
      },
      "execution_count": 38,
      "outputs": [
        {
          "output_type": "stream",
          "name": "stdout",
          "text": [
            "Motor TI 1A PLNS masuk parkiran.\n",
            "Motor TRK 2024 PBO masuk parkiran.\n",
            "Motor PLNS 2025 JY masuk parkiran.\n",
            "\n",
            "Daftar kendaraan di parkiran:\n",
            "Motor Aerox (Merah) - Plat: TI 1A PLNS\n",
            "Motor Mio GT (Hitam) - Plat: TRK 2024 PBO\n",
            "Motor Supra Bapak (Biru) - Plat: PLNS 2025 JY\n",
            "\n",
            "Motor keluar:\n",
            "Motor tidak ditemukan di parkiran.\n",
            "\n",
            "Daftar kendaraan setelah motor keluar:\n",
            "Motor Aerox (Merah) - Plat: TI 1A PLNS\n",
            "Motor Mio GT (Hitam) - Plat: TRK 2024 PBO\n",
            "Motor Supra Bapak (Biru) - Plat: PLNS 2025 JY\n"
          ]
        }
      ]
    }
  ]
}